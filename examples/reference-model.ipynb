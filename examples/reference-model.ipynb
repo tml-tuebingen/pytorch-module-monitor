{
 "cells": [
  {
   "cell_type": "markdown",
   "id": "18336a86",
   "metadata": {},
   "source": [
    "# This notebook demonstrates how to monitor activation and parameter differences against a reference model\n",
    "##### We integrate the reference model into the pytorch cifar-10 example: https://docs.pytorch.org/tutorials/beginner/blitz/cifar10_tutorial.html"
   ]
  },
  {
   "cell_type": "code",
   "execution_count": 1,
   "id": "927715e4",
   "metadata": {},
   "outputs": [],
   "source": [
    "import torch\n",
    "import torchvision\n",
    "import torchvision.transforms as transforms"
   ]
  },
  {
   "cell_type": "code",
   "execution_count": 2,
   "id": "5913a9e1",
   "metadata": {},
   "outputs": [
    {
     "name": "stdout",
     "output_type": "stream",
     "text": [
      "Files already downloaded and verified\n",
      "Files already downloaded and verified\n"
     ]
    }
   ],
   "source": [
    "transform = transforms.Compose(\n",
    "    [transforms.ToTensor(),\n",
    "     transforms.Normalize((0.5, 0.5, 0.5), (0.5, 0.5, 0.5))])\n",
    "\n",
    "batch_size = 4\n",
    "\n",
    "trainset = torchvision.datasets.CIFAR10(root='./data', train=True,\n",
    "                                        download=True, transform=transform)\n",
    "trainloader = torch.utils.data.DataLoader(trainset, batch_size=batch_size,\n",
    "                                          shuffle=True, num_workers=2)\n",
    "\n",
    "testset = torchvision.datasets.CIFAR10(root='./data', train=False,\n",
    "                                       download=True, transform=transform)\n",
    "testloader = torch.utils.data.DataLoader(testset, batch_size=batch_size,\n",
    "                                         shuffle=False, num_workers=2)\n",
    "\n",
    "classes = ('plane', 'car', 'bird', 'cat',\n",
    "           'deer', 'dog', 'frog', 'horse', 'ship', 'truck')"
   ]
  },
  {
   "cell_type": "code",
   "execution_count": 3,
   "id": "ea33c848",
   "metadata": {},
   "outputs": [
    {
     "data": {
      "image/png": "[encoded data removed]",
      "text/plain": [
       "<Figure size 640x480 with 1 Axes>"
      ]
     },
     "metadata": {},
     "output_type": "display_data"
    },
    {
     "name": "stdout",
     "output_type": "stream",
     "text": [
      "deer  dog   horse bird \n"
     ]
    }
   ],
   "source": [
    "import matplotlib.pyplot as plt\n",
    "import numpy as np\n",
    "\n",
    "# functions to show an image\n",
    "\n",
    "\n",
    "def imshow(img):\n",
    "    img = img / 2 + 0.5     # unnormalize\n",
    "    npimg = img.numpy()\n",
    "    plt.imshow(np.transpose(npimg, (1, 2, 0)))\n",
    "    plt.show()\n",
    "\n",
    "\n",
    "# get some random training images\n",
    "dataiter = iter(trainloader)\n",
    "images, labels = next(dataiter)\n",
    "\n",
    "# show images\n",
    "imshow(torchvision.utils.make_grid(images))\n",
    "# print labels\n",
    "print(' '.join(f'{classes[labels[j]]:5s}' for j in range(batch_size)))"
   ]
  },
  {
   "cell_type": "code",
   "execution_count": 4,
   "id": "410759e3",
   "metadata": {},
   "outputs": [],
   "source": [
    "device = torch.device('cuda:0' if torch.cuda.is_available() else 'cpu')"
   ]
  },
  {
   "cell_type": "code",
   "execution_count": 5,
   "id": "a4bdb01a",
   "metadata": {},
   "outputs": [
    {
     "data": {
      "text/plain": [
       "Net(\n",
       "  (conv1): Conv2d(3, 6, kernel_size=(5, 5), stride=(1, 1))\n",
       "  (pool1): MaxPool2d(kernel_size=2, stride=2, padding=0, dilation=1, ceil_mode=False)\n",
       "  (conv2): Conv2d(6, 16, kernel_size=(5, 5), stride=(1, 1))\n",
       "  (pool2): MaxPool2d(kernel_size=2, stride=2, padding=0, dilation=1, ceil_mode=False)\n",
       "  (fc1): Linear(in_features=400, out_features=120, bias=True)\n",
       "  (fc2): Linear(in_features=120, out_features=84, bias=True)\n",
       "  (fc3): Linear(in_features=84, out_features=10, bias=True)\n",
       ")"
      ]
     },
     "execution_count": 5,
     "metadata": {},
     "output_type": "execute_result"
    }
   ],
   "source": [
    "import torch.nn as nn\n",
    "import torch.nn.functional as F\n",
    "\n",
    "\n",
    "class Net(nn.Module):\n",
    "    def __init__(self):\n",
    "        super().__init__()\n",
    "        self.conv1 = nn.Conv2d(3, 6, 5)\n",
    "        self.pool1 = nn.MaxPool2d(2, 2)\n",
    "        self.conv2 = nn.Conv2d(6, 16, 5)\n",
    "        self.pool2 = nn.MaxPool2d(2, 2)\n",
    "        self.fc1 = nn.Linear(16 * 5 * 5, 120)\n",
    "        self.fc2 = nn.Linear(120, 84)\n",
    "        self.fc3 = nn.Linear(84, 10)\n",
    "\n",
    "    def forward(self, x):\n",
    "        x = self.pool1(F.relu(self.conv1(x)))\n",
    "        x = self.pool2(F.relu(self.conv2(x)))\n",
    "        x = torch.flatten(x, 1) # flatten all dimensions except batch\n",
    "        x = F.relu(self.fc1(x))\n",
    "        x = F.relu(self.fc2(x))\n",
    "        x = self.fc3(x)\n",
    "        return x\n",
    "\n",
    "\n",
    "net = Net()\n",
    "net.to(device)"
   ]
  },
  {
   "cell_type": "code",
   "execution_count": 6,
   "id": "e1be12fb",
   "metadata": {},
   "outputs": [
    {
     "data": {
      "text/plain": [
       "<All keys matched successfully>"
      ]
     },
     "execution_count": 6,
     "metadata": {},
     "output_type": "execute_result"
    }
   ],
   "source": [
    "# create the reference model. in this example, the reference model is the original model at initialization\n",
    "reference_model = Net()\n",
    "reference_model.to(device)\n",
    "reference_model.load_state_dict(net.state_dict())"
   ]
  },
  {
   "cell_type": "code",
   "execution_count": 7,
   "id": "dcf75b13",
   "metadata": {},
   "outputs": [],
   "source": [
    "import torch.optim as optim\n",
    "\n",
    "criterion = nn.CrossEntropyLoss()\n",
    "optimizer = optim.SGD(net.parameters(), lr=0.001, momentum=0.9)"
   ]
  },
  {
   "cell_type": "code",
   "execution_count": null,
   "id": "cca48d9e",
   "metadata": {},
   "outputs": [
    {
     "name": "stderr",
     "output_type": "stream",
     "text": [
      "/home/sebastian/anaconda3/envs/tmcd/lib/python3.12/site-packages/tqdm/auto.py:21: TqdmWarning: IProgress not found. Please update jupyter and ipywidgets. See https://ipywidgets.readthedocs.io/en/stable/user_install.html\n",
      "  from .autonotebook import tqdm as notebook_tqdm\n"
     ]
    }
   ],
   "source": [
    "from pytorch_module_monitor import ModuleMonitor\n",
    "import torch\n",
    "\n",
    "# create the training monitor\n",
    "training_monitor = ModuleMonitor(monitor_interval=1000)\n",
    "\n",
    "# add some metrics\n",
    "training_monitor.add_activation_metric(\"l2norm\", lambda activations: torch.linalg.vector_norm(activations, ord=2, dim=-1))\n",
    "training_monitor.add_parameter_metric(\"l2norm\", lambda parameters: torch.linalg.vector_norm(parameters.flatten(), ord=2))\n",
    "training_monitor.add_gradient_metric(\"l2norm\", lambda gradients: torch.linalg.vector_norm(gradients.flatten(), ord=2))\n",
    "\n",
    "# add metrics that compare against the reference model\n",
    "training_monitor.add_activation_difference_metric(\"l2norm\", lambda activations, reference_activations: torch.linalg.vector_norm((activations - reference_activations), ord=2, dim=-1))\n",
    "training_monitor.add_parameter_difference_metric(\"l2norm\", lambda parameters, reference_parameters: torch.linalg.vector_norm((parameters - reference_parameters).flatten(), ord=2))\n",
    "\n",
    "# provide the module that we want to monitor\n",
    "training_monitor.set_module(net)\n",
    "\n",
    "# we also need to set the reference model\n",
    "training_monitor.set_reference_module(reference_model)"
   ]
  },
  {
   "cell_type": "code",
   "execution_count": 9,
   "id": "e7bd4f14",
   "metadata": {},
   "outputs": [
    {
     "name": "stderr",
     "output_type": "stream",
     "text": [
      "ERROR:wandb.jupyter:Failed to detect the name of this notebook, you can set it manually with the WANDB_NOTEBOOK_NAME environment variable to enable code saving.\n",
      "\u001b[34m\u001b[1mwandb\u001b[0m: Currently logged in as: \u001b[33msbordt\u001b[0m (\u001b[33msbordt-University of Tübingen\u001b[0m). Use \u001b[1m`wandb login --relogin`\u001b[0m to force relogin\n"
     ]
    },
    {
     "data": {
      "text/html": [
       "wandb version 0.22.2 is available!  To upgrade, please run:\n",
       " $ pip install wandb --upgrade"
      ],
      "text/plain": [
       "<IPython.core.display.HTML object>"
      ]
     },
     "metadata": {},
     "output_type": "display_data"
    },
    {
     "data": {
      "text/html": [
       "Tracking run with wandb version 0.17.3"
      ],
      "text/plain": [
       "<IPython.core.display.HTML object>"
      ]
     },
     "metadata": {},
     "output_type": "display_data"
    },
    {
     "data": {
      "text/html": [
       "Run data is saved locally in <code>/home/sebastian/Documents/GitHub/pytorch-module-monitor/examples/wandb/run-20251014_152837-hwrzeb80</code>"
      ],
      "text/plain": [
       "<IPython.core.display.HTML object>"
      ]
     },
     "metadata": {},
     "output_type": "display_data"
    },
    {
     "data": {
      "text/html": [
       "Syncing run <strong><a href='https://wandb.ai/sbordt-University%20of%20T%C3%BCbingen/cifar-10/runs/hwrzeb80' target=\"_blank\">fine-lake-24</a></strong> to <a href='https://wandb.ai/sbordt-University%20of%20T%C3%BCbingen/cifar-10' target=\"_blank\">Weights & Biases</a> (<a href='https://wandb.me/run' target=\"_blank\">docs</a>)<br/>"
      ],
      "text/plain": [
       "<IPython.core.display.HTML object>"
      ]
     },
     "metadata": {},
     "output_type": "display_data"
    },
    {
     "data": {
      "text/html": [
       " View project at <a href='https://wandb.ai/sbordt-University%20of%20T%C3%BCbingen/cifar-10' target=\"_blank\">https://wandb.ai/sbordt-University%20of%20T%C3%BCbingen/cifar-10</a>"
      ],
      "text/plain": [
       "<IPython.core.display.HTML object>"
      ]
     },
     "metadata": {},
     "output_type": "display_data"
    },
    {
     "data": {
      "text/html": [
       " View run at <a href='https://wandb.ai/sbordt-University%20of%20T%C3%BCbingen/cifar-10/runs/hwrzeb80' target=\"_blank\">https://wandb.ai/sbordt-University%20of%20T%C3%BCbingen/cifar-10/runs/hwrzeb80</a>"
      ],
      "text/plain": [
       "<IPython.core.display.HTML object>"
      ]
     },
     "metadata": {},
     "output_type": "display_data"
    },
    {
     "data": {
      "text/html": [
       "<button onClick=\"this.nextSibling.style.display='block';this.style.display='none';\">Display W&B run</button><iframe src='https://wandb.ai/sbordt-University%20of%20T%C3%BCbingen/cifar-10/runs/hwrzeb80?jupyter=true' style='border:none;width:100%;height:420px;display:none;'></iframe>"
      ],
      "text/plain": [
       "<wandb.sdk.wandb_run.Run at 0x7ed9785c6030>"
      ]
     },
     "execution_count": 9,
     "metadata": {},
     "output_type": "execute_result"
    }
   ],
   "source": [
    "import wandb\n",
    "\n",
    "wandb.init(project=\"cifar-10\", entity='sbordt-University of Tübingen')"
   ]
  },
  {
   "cell_type": "code",
   "execution_count": null,
   "id": "54f92c40",
   "metadata": {},
   "outputs": [
    {
     "name": "stderr",
     "output_type": "stream",
     "text": [
      "INFO:ModuleMonitor:Logged 46 keys at step 1. Total size of log data: 0.00 MB\n",
      "INFO:ModuleMonitor:Logged 46 keys at step 1001. Total size of log data: 0.00 MB\n",
      "INFO:ModuleMonitor:Logged 46 keys at step 2001. Total size of log data: 0.00 MB\n"
     ]
    },
    {
     "name": "stdout",
     "output_type": "stream",
     "text": [
      "[1,  2000] loss: 2.186\n"
     ]
    },
    {
     "name": "stderr",
     "output_type": "stream",
     "text": [
      "INFO:ModuleMonitor:Logged 46 keys at step 3001. Total size of log data: 0.00 MB\n",
      "INFO:ModuleMonitor:Logged 46 keys at step 4001. Total size of log data: 0.00 MB\n"
     ]
    },
    {
     "name": "stdout",
     "output_type": "stream",
     "text": [
      "[1,  4000] loss: 1.861\n"
     ]
    },
    {
     "name": "stderr",
     "output_type": "stream",
     "text": [
      "INFO:ModuleMonitor:Logged 46 keys at step 5001. Total size of log data: 0.00 MB\n",
      "INFO:ModuleMonitor:Logged 46 keys at step 6001. Total size of log data: 0.00 MB\n"
     ]
    },
    {
     "name": "stdout",
     "output_type": "stream",
     "text": [
      "[1,  6000] loss: 1.669\n"
     ]
    },
    {
     "name": "stderr",
     "output_type": "stream",
     "text": [
      "INFO:ModuleMonitor:Logged 46 keys at step 7001. Total size of log data: 0.00 MB\n",
      "INFO:ModuleMonitor:Logged 46 keys at step 8001. Total size of log data: 0.00 MB\n"
     ]
    },
    {
     "name": "stdout",
     "output_type": "stream",
     "text": [
      "[1,  8000] loss: 1.576\n"
     ]
    },
    {
     "name": "stderr",
     "output_type": "stream",
     "text": [
      "INFO:ModuleMonitor:Logged 46 keys at step 9001. Total size of log data: 0.00 MB\n",
      "INFO:ModuleMonitor:Logged 46 keys at step 10001. Total size of log data: 0.00 MB\n"
     ]
    },
    {
     "name": "stdout",
     "output_type": "stream",
     "text": [
      "[1, 10000] loss: 1.530\n"
     ]
    },
    {
     "name": "stderr",
     "output_type": "stream",
     "text": [
      "INFO:ModuleMonitor:Logged 46 keys at step 11001. Total size of log data: 0.00 MB\n",
      "INFO:ModuleMonitor:Logged 46 keys at step 12001. Total size of log data: 0.00 MB\n"
     ]
    },
    {
     "name": "stdout",
     "output_type": "stream",
     "text": [
      "[1, 12000] loss: 1.449\n"
     ]
    },
    {
     "name": "stderr",
     "output_type": "stream",
     "text": [
      "INFO:ModuleMonitor:Logged 46 keys at step 13001. Total size of log data: 0.00 MB\n",
      "INFO:ModuleMonitor:Logged 46 keys at step 14001. Total size of log data: 0.00 MB\n"
     ]
    },
    {
     "name": "stdout",
     "output_type": "stream",
     "text": [
      "[2,  2000] loss: 1.388\n"
     ]
    },
    {
     "name": "stderr",
     "output_type": "stream",
     "text": [
      "INFO:ModuleMonitor:Logged 46 keys at step 15001. Total size of log data: 0.00 MB\n",
      "INFO:ModuleMonitor:Logged 46 keys at step 16001. Total size of log data: 0.00 MB\n"
     ]
    },
    {
     "name": "stdout",
     "output_type": "stream",
     "text": [
      "[2,  4000] loss: 1.376\n"
     ]
    },
    {
     "name": "stderr",
     "output_type": "stream",
     "text": [
      "INFO:ModuleMonitor:Logged 46 keys at step 17001. Total size of log data: 0.00 MB\n",
      "INFO:ModuleMonitor:Logged 46 keys at step 18001. Total size of log data: 0.00 MB\n"
     ]
    },
    {
     "name": "stdout",
     "output_type": "stream",
     "text": [
      "[2,  6000] loss: 1.343\n"
     ]
    },
    {
     "name": "stderr",
     "output_type": "stream",
     "text": [
      "INFO:ModuleMonitor:Logged 46 keys at step 19001. Total size of log data: 0.00 MB\n",
      "INFO:ModuleMonitor:Logged 46 keys at step 20001. Total size of log data: 0.00 MB\n"
     ]
    },
    {
     "name": "stdout",
     "output_type": "stream",
     "text": [
      "[2,  8000] loss: 1.321\n"
     ]
    },
    {
     "name": "stderr",
     "output_type": "stream",
     "text": [
      "INFO:ModuleMonitor:Logged 46 keys at step 21001. Total size of log data: 0.00 MB\n",
      "INFO:ModuleMonitor:Logged 46 keys at step 22001. Total size of log data: 0.00 MB\n"
     ]
    },
    {
     "name": "stdout",
     "output_type": "stream",
     "text": [
      "[2, 10000] loss: 1.272\n"
     ]
    },
    {
     "name": "stderr",
     "output_type": "stream",
     "text": [
      "INFO:ModuleMonitor:Logged 46 keys at step 23001. Total size of log data: 0.00 MB\n",
      "INFO:ModuleMonitor:Logged 46 keys at step 24001. Total size of log data: 0.00 MB\n"
     ]
    },
    {
     "name": "stdout",
     "output_type": "stream",
     "text": [
      "[2, 12000] loss: 1.266\n",
      "Finished Training\n"
     ]
    }
   ],
   "source": [
    "gradient_step = 1\n",
    "for epoch in range(2):  # loop over the dataset multiple times\n",
    "\n",
    "    running_loss = 0.0\n",
    "    for i, data in enumerate(trainloader, 0):\n",
    "        ### Tell the monitor that we are starting a new gradient step ###\n",
    "        training_monitor.begin_step(gradient_step)\n",
    "\n",
    "        # get the inputs; data is a list of [inputs, labels]\n",
    "        inputs, labels = data[0].to(device), data[1].to(device)\n",
    "\n",
    "        # zero the parameter gradients\n",
    "        optimizer.zero_grad()\n",
    "\n",
    "        ### The reference model needs to do a forward pass before the actual model. ###\n",
    "        ### During the forward pass, the monitor will store the activations of the reference model. ###\n",
    "        with torch.no_grad():\n",
    "            reference_outputs = reference_model(inputs)\n",
    "\n",
    "        # forward + backward + optimize\n",
    "        outputs = net(inputs)\n",
    "        loss = criterion(outputs, labels)\n",
    "        loss.backward()\n",
    "\n",
    "        ### Tell the monitor to monitor parameters and gradients now ###\n",
    "        training_monitor.monitor_parameters()\n",
    "        training_monitor.monitor_gradients()\n",
    "\n",
    "        optimizer.step()\n",
    "\n",
    "        # print statistics\n",
    "        running_loss += loss.item()\n",
    "        if i % 2000 == 1999:    # print every 2000 mini-batches\n",
    "            print(f'[{epoch + 1}, {i + 1:5d}] loss: {running_loss / 2000:.3f}')\n",
    "            running_loss = 0.0\n",
    "\n",
    "        gradient_step += 1\n",
    "\n",
    "        ### Tell the monitor that we are done with the step. This will aggregate the metrics. ###\n",
    "        training_monitor.end_step()\n",
    "\n",
    "        # log everything to wandb\n",
    "        metrics = {\n",
    "            \"loss\": loss.item(),\n",
    "            \"epoch\": epoch,\n",
    "            \"step\": gradient_step,\n",
    "        }\n",
    "        metrics.update(training_monitor.get_step_metrics())\n",
    "        wandb.log(metrics)\n",
    "\n",
    "print('Finished Training')"
   ]
  },
  {
   "cell_type": "code",
   "execution_count": 11,
   "id": "7ff414b6",
   "metadata": {},
   "outputs": [
    {
     "data": {
      "text/plain": [
       "{'l2norm': (re.compile(r'.*', re.UNICODE),\n",
       "  <function __main__.<lambda>(activations, reference_activations)>,\n",
       "  None)}"
      ]
     },
     "execution_count": 11,
     "metadata": {},
     "output_type": "execute_result"
    }
   ],
   "source": [
    "training_monitor.activation_difference_metrics"
   ]
  },
  {
   "cell_type": "code",
   "execution_count": 12,
   "id": "6d1e7fc7",
   "metadata": {},
   "outputs": [
    {
     "ename": "AttributeError",
     "evalue": "'ModuleMonitor' object has no attribute 'activation_difference_hooks'",
     "output_type": "error",
     "traceback": [
      "\u001b[0;31m---------------------------------------------------------------------------\u001b[0m",
      "\u001b[0;31mAttributeError\u001b[0m                            Traceback (most recent call last)",
      "Cell \u001b[0;32mIn[12], line 1\u001b[0m\n\u001b[0;32m----> 1\u001b[0m \u001b[38;5;28mlen\u001b[39m(\u001b[43mtraining_monitor\u001b[49m\u001b[38;5;241;43m.\u001b[39;49m\u001b[43mactivation_difference_hooks\u001b[49m)\n",
      "\u001b[0;31mAttributeError\u001b[0m: 'ModuleMonitor' object has no attribute 'activation_difference_hooks'"
     ]
    }
   ],
   "source": [
    "len(training_monitor.activation_difference_hooks)"
   ]
  },
  {
   "cell_type": "code",
   "execution_count": null,
   "id": "4da66829",
   "metadata": {},
   "outputs": [
    {
     "name": "stdout",
     "output_type": "stream",
     "text": [
      "[root module]\n",
      "conv1\n",
      "pool\n",
      "conv2\n",
      "fc1\n",
      "fc2\n",
      "fc3\n"
     ]
    }
   ],
   "source": [
    "# print the names of the modules\n",
    "for module, name in training_monitor.module_names.items():\n",
    "    print(name)"
   ]
  },
  {
   "cell_type": "code",
   "execution_count": null,
   "id": "e73b7bf5",
   "metadata": {},
   "outputs": [
    {
     "name": "stdout",
     "output_type": "stream",
     "text": [
      "Accuracy of the network on the 10000 test images: 54 %\n"
     ]
    }
   ],
   "source": [
    "correct = 0\n",
    "total = 0\n",
    "# since we're not training, we don't need to calculate the gradients for our outputs\n",
    "with torch.no_grad():\n",
    "    for data in testloader:\n",
    "        images, labels = data\n",
    "        # calculate outputs by running images through the network\n",
    "        outputs = net(images.to(device))\n",
    "        # the class with the highest energy is what we choose as prediction\n",
    "        _, predicted = torch.max(outputs, 1)\n",
    "        total += labels.size(0)\n",
    "        correct += (predicted == labels.to(device)).sum().item()\n",
    "\n",
    "print(f'Accuracy of the network on the 10000 test images: {100 * correct // total} %')"
   ]
  }
 ],
 "metadata": {
  "kernelspec": {
   "display_name": "tmcd",
   "language": "python",
   "name": "python3"
  },
  "language_info": {
   "codemirror_mode": {
    "name": "ipython",
    "version": 3
   },
   "file_extension": ".py",
   "mimetype": "text/x-python",
   "name": "python",
   "nbconvert_exporter": "python",
   "pygments_lexer": "ipython3",
   "version": "3.12.2"
  }
 },
 "nbformat": 4,
 "nbformat_minor": 5
}
